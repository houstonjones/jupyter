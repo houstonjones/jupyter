{
 "cells": [
  {
   "cell_type": "markdown",
   "metadata": {},
   "source": [
    "# COVID-19 Interactive Analysis Dashboard"
   ]
  },
  {
   "cell_type": "code",
   "execution_count": 1,
   "metadata": {},
   "outputs": [],
   "source": [
    "# importing libraries\n",
    "\n",
    "# from __future__ import print_function\n",
    "from ipywidgets import interact, interactive, fixed, interact_manual, SelectMultiple\n",
    "from IPython.core.display import display, HTML\n",
    "\n",
    "import numpy as np\n",
    "from numpy import convolve\n",
    "\n",
    "import pandas as pd\n",
    "import matplotlib.pyplot as plt\n",
    "import plotly.express as px\n",
    "# import folium\n",
    "import plotly.graph_objects as go\n",
    "from plotly.subplots import make_subplots\n",
    "# import seaborn as sns\n",
    "import ipywidgets as widgets\n",
    "fig = go.FigureWidget( layout=go.Layout() )\n"
   ]
  },
  {
   "cell_type": "code",
   "execution_count": 2,
   "metadata": {},
   "outputs": [],
   "source": [
    "# loading data right from the source:\n",
    "death_df = pd.read_csv('https://raw.githubusercontent.com/CSSEGISandData/COVID-19/master/csse_covid_19_data/csse_covid_19_time_series/time_series_covid19_deaths_global.csv')\n",
    "confirmed_df = pd.read_csv('https://raw.githubusercontent.com/CSSEGISandData/COVID-19/master/csse_covid_19_data/csse_covid_19_time_series/time_series_covid19_confirmed_global.csv')\n",
    "recovered_df = pd.read_csv('https://raw.githubusercontent.com/CSSEGISandData/COVID-19/master/csse_covid_19_data/csse_covid_19_time_series/time_series_covid19_recovered_global.csv')\n",
    "country_df = pd.read_csv('https://raw.githubusercontent.com/CSSEGISandData/COVID-19/web-data/data/cases_country.csv')\n",
    "us_confirmed_df = pd.read_csv('https://raw.githubusercontent.com/CSSEGISandData/COVID-19/master/csse_covid_19_data/csse_covid_19_time_series/time_series_covid19_confirmed_US.csv')\n",
    "us_death_df = pd.read_csv('https://raw.githubusercontent.com/CSSEGISandData/COVID-19/master/csse_covid_19_data/csse_covid_19_time_series/time_series_covid19_deaths_US.csv')"
   ]
  },
  {
   "cell_type": "code",
   "execution_count": 3,
   "metadata": {},
   "outputs": [],
   "source": [
    "# data cleaning\n",
    "\n",
    "# renaming the df column names to lowercase\n",
    "country_df.columns = map(str.lower, country_df.columns)\n",
    "confirmed_df.columns = map(str.lower, confirmed_df.columns)\n",
    "death_df.columns = map(str.lower, death_df.columns)\n",
    "recovered_df.columns = map(str.lower, recovered_df.columns)\n",
    "us_confirmed_df.columns = map(str.lower, us_confirmed_df.columns)\n",
    "us_death_df.columns = map(str.lower, us_death_df.columns)\n",
    "\n",
    "# changing province/state to state and country/region to country\n",
    "confirmed_df = confirmed_df.rename(columns={'province/state': 'state', 'country/region': 'country'})\n",
    "recovered_df = confirmed_df.rename(columns={'province/state': 'state', 'country/region': 'country'})\n",
    "death_df = death_df.rename(columns={'province/state': 'state', 'country/region': 'country'})\n",
    "country_df = country_df.rename(columns={'country_region': 'country'})\n",
    "us_confirmed_df = us_confirmed_df.rename(columns={'province_state': 'state', 'admin2': 'county', 'country_region': 'country'})\n",
    "us_death_df = us_death_df.rename(columns={'province_state': 'state', 'admin2': 'county', 'country_region': 'country'})\n",
    "# drop rows with nulls\n",
    "us_confirmed_df = us_confirmed_df.dropna(axis = 0, how ='any') \n",
    "us_death_df = us_death_df.dropna(axis = 0, how ='any') "
   ]
  },
  {
   "cell_type": "code",
   "execution_count": 4,
   "metadata": {},
   "outputs": [],
   "source": [
    "# compute daily cases\n",
    "confirmed_daily_df = confirmed_df.copy(deep=True)\n",
    "for col in range(6, len(confirmed_daily_df.columns)):\n",
    "    confirmed_daily_df[confirmed_daily_df.columns[col]] = confirmed_df[confirmed_df.columns[col]] - confirmed_df[confirmed_df.columns[col-1]]\n",
    "\n",
    "death_daily_df = death_df.copy(deep=True)\n",
    "for col in range(6, len(death_daily_df.columns)):\n",
    "    death_daily_df[death_daily_df.columns[col]] = death_df[death_df.columns[col]] - death_df[death_df.columns[col-1]]\n",
    "\n",
    "us_confirmed_daily_df = us_confirmed_df.copy(deep=True)\n",
    "for col in range(12, len(us_confirmed_daily_df.columns)):\n",
    "    us_confirmed_daily_df[us_confirmed_daily_df.columns[col]] = us_confirmed_df[us_confirmed_df.columns[col]] - us_confirmed_df[us_confirmed_df.columns[col-1]]\n",
    "\n",
    "us_death_daily_df = us_death_df.copy(deep=True)\n",
    "for col in range(12, len(us_death_daily_df.columns)):\n",
    "    us_death_daily_df[us_death_daily_df.columns[col]] = us_death_df[us_death_df.columns[col]] - us_death_df[us_death_df.columns[col-1]]\n"
   ]
  },
  {
   "cell_type": "code",
   "execution_count": 5,
   "metadata": {},
   "outputs": [],
   "source": [
    "# total number of confirmed, death and recovered cases\n",
    "confirmed_total = int(country_df['confirmed'].sum())\n",
    "deaths_total = int(country_df['deaths'].sum())\n",
    "recovered_total = int(country_df['recovered'].sum())\n",
    "active_total = int(country_df['active'].sum())"
   ]
  },
  {
   "cell_type": "code",
   "execution_count": 6,
   "metadata": {},
   "outputs": [],
   "source": [
    "def movingaverage (values, window):\n",
    "    weights = np.repeat(1.0, window)/window\n",
    "    sma = np.convolve(values, weights, 'valid')\n",
    "    return sma"
   ]
  },
  {
   "cell_type": "code",
   "execution_count": 7,
   "metadata": {},
   "outputs": [],
   "source": [
    "def plot_cases_global(x):\n",
    "    labels = ['deaths', 'confirmed', 'deaths', 'confirmed']\n",
    "    colors = ['palevioletred', 'cadetblue', 'red', 'blue']\n",
    "    mode_size = [6, 6, 6, 6]\n",
    "    line_size = [3, 3, 3, 3]\n",
    "\n",
    "#     region_type = 'country'\n",
    "    chartType = ['bar', 'bar', 'line', 'line']\n",
    "#     df_list = [confirmed_daily_df, death_daily_df, confirmed_df, death_df]\n",
    "#     df_list\n",
    "    \n",
    "    # Create figure with secondary y-axis\n",
    "    fig = make_subplots(specs=[[{\"secondary_y\": True}]])\n",
    "    yMaxSecondary = max(np.sum(np.asarray(df_list[1][df_list[1][region_type] == x[0]].iloc[:,60:]),axis = 0)) * 2.0\n",
    "    fig.update_yaxes(range=[3, yMaxSecondary], secondary_y=True, showgrid=False)\n",
    "    \n",
    "    for i, df in enumerate(df_list):\n",
    "        for region in x:\n",
    "            x_data = np.array(list(df.iloc[:, 60:].columns))\n",
    "            y_data = np.sum(np.asarray(df[df[region_type] == region].iloc[:,60:]),axis = 0)\n",
    "                \n",
    "            if (chartType[i] == 'line'):\n",
    "                fig.add_trace(go.Scatter(x = x_data, y = y_data, line_shape = 'linear', line=dict(color=colors[i]), \n",
    "                                         name=region + ' ' + labels[i] + ' total (' + str(max(y_data)) + ')'), \n",
    "                              secondary_y = False)\n",
    "                #line_shape - linear/spline\n",
    "            elif (chartType[i] == 'bar'):\n",
    "                fig.add_trace(go.Bar(x = x_data, y = y_data, \n",
    "                                     name=region + ' ' + labels[i] + ' daily', \n",
    "                                     marker_color = colors[i]), secondary_y = True)\n",
    "    #             fig = go.Figure(data=[go.Bar(name='xxx', x=x_data, y=y_data)])\n",
    "                if (i == 1):\n",
    "                    yMA = movingaverage(y_data,7)\n",
    "                    fig.add_trace(go.Scatter(x = x_data[len(x_data)-len(yMA):], y = yMA, line_shape = 'linear', line=dict(color=colors[i]), \n",
    "                                     name='Moving average'), \n",
    "                          secondary_y = True)\n",
    "\n",
    "    \n",
    "    fig.update_layout(\n",
    "        title=\"COVID 19 cases by \" + region_type,\n",
    "        xaxis_title='Date',\n",
    "        yaxis_title='No. of Confirmed Cases',\n",
    "        yaxis2_title='Daily Cases (bar charts)',\n",
    "        margin=dict(l=20, r=20, t=40, b=20),\n",
    "        paper_bgcolor=\"lightgrey\",\n",
    "        width = 800,\n",
    "        \n",
    "    );\n",
    "    \n",
    "    fig.update_yaxes(type=\"linear\")\n",
    "    fig.show();"
   ]
  },
  {
   "cell_type": "code",
   "execution_count": 8,
   "metadata": {},
   "outputs": [],
   "source": [
    "def plot_cases_state(x):\n",
    "    labels = ['deaths', 'confirmed', 'deaths', 'confirmed']\n",
    "    colors = ['palevioletred', 'cadetblue', 'red', 'blue']\n",
    "    mode_size = [6, 6, 6, 6]\n",
    "    line_size = [3, 3, 3, 3]\n",
    "\n",
    "#     region_type = 'country'\n",
    "    chartType = ['bar', 'bar', 'line', 'line']\n",
    "#     df_list = [confirmed_daily_df, death_daily_df, confirmed_df, death_df]\n",
    "#     df_list\n",
    "    \n",
    "    # Create figure with secondary y-axis\n",
    "    fig = make_subplots(specs=[[{\"secondary_y\": True}]])\n",
    "    yMaxSecondary = max(np.sum(np.asarray(df_list_state[1][df_list_state[1][region_type_state] == x[0]].iloc[:,60:]),axis = 0)) * 2.0\n",
    "    fig.update_yaxes(range=[3, yMaxSecondary], secondary_y=True, showgrid=False)\n",
    "    \n",
    "    for i, df in enumerate(df_list_state):\n",
    "        for region in x:\n",
    "            x_data = np.array(list(df.iloc[:, 60:].columns))\n",
    "            y_data = np.sum(np.asarray(df[df[region_type_state] == region].iloc[:,60:]),axis = 0)\n",
    "                \n",
    "            if (chartType[i] == 'line'):\n",
    "                fig.add_trace(go.Scatter(x = x_data, y = y_data, line_shape = 'linear', line=dict(color=colors[i]), \n",
    "                                         name=region + ' ' + labels[i] + ' total (' + str(max(y_data)) + ')'), \n",
    "                              secondary_y = False)\n",
    "                #line_shape - linear/spline\n",
    "            elif (chartType[i] == 'bar'):\n",
    "                fig.add_trace(go.Bar(x = x_data, y = y_data, \n",
    "                                     name=region + ' ' + labels[i] + ' daily', \n",
    "                                     marker_color = colors[i]), secondary_y = True)\n",
    "    #             fig = go.Figure(data=[go.Bar(name='xxx', x=x_data, y=y_data)])\n",
    "                if (i == 1):\n",
    "                    yMA = movingaverage(y_data,7)\n",
    "                    fig.add_trace(go.Scatter(x = x_data[len(x_data)-len(yMA):], y = yMA, line_shape = 'linear', line=dict(color=colors[i]), \n",
    "                                     name='Moving average'), \n",
    "                          secondary_y = True)\n",
    "\n",
    "    \n",
    "    fig.update_layout(\n",
    "        title=\"COVID 19 cases by \" + region_type_state,\n",
    "        xaxis_title='Date',\n",
    "        yaxis_title='No. of Confirmed Cases',\n",
    "        yaxis2_title='Daily Cases (bar charts)',\n",
    "        margin=dict(l=20, r=20, t=40, b=20),\n",
    "        paper_bgcolor=\"lightgrey\",\n",
    "        width = 800,\n",
    "        \n",
    "    );\n",
    "    \n",
    "    fig.update_yaxes(type=\"linear\")\n",
    "    fig.show();"
   ]
  },
  {
   "cell_type": "code",
   "execution_count": 9,
   "metadata": {},
   "outputs": [],
   "source": [
    "def plot_cases_county(x):\n",
    "    labels = ['deaths', 'confirmed', 'deaths', 'confirmed']\n",
    "    colors = ['palevioletred', 'cadetblue', 'red', 'blue']\n",
    "    mode_size = [6, 6, 6, 6]\n",
    "    line_size = [3, 3, 3, 3]\n",
    "\n",
    "#     region_type = 'country'\n",
    "    chartType = ['bar', 'bar', 'line', 'line']\n",
    "#     df_list = [confirmed_daily_df, death_daily_df, confirmed_df, death_df]\n",
    "#     df_list\n",
    "    \n",
    "    # Create figure with secondary y-axis\n",
    "    fig = make_subplots(specs=[[{\"secondary_y\": True}]])\n",
    "    yMaxSecondary = max(np.sum(np.asarray(df_list_county[1][df_list_county[1][region_type_county] == x[0]].iloc[:,60:]),axis = 0)) * 2.0\n",
    "    fig.update_yaxes(range=[3, yMaxSecondary], secondary_y=True, showgrid=False)\n",
    "    \n",
    "    for i, df in enumerate(df_list_county):\n",
    "        for region in x:\n",
    "            x_data = np.array(list(df.iloc[:, 60:].columns))\n",
    "            y_data = np.sum(np.asarray(df[df[region_type_county] == region].iloc[:,60:]),axis = 0)\n",
    "                \n",
    "            if (chartType[i] == 'line'):\n",
    "                fig.add_trace(go.Scatter(x = x_data, y = y_data, line_shape = 'linear', line=dict(color=colors[i]), \n",
    "                                         name=region + ' ' + labels[i] + ' total (' + str(max(y_data)) + ')'), \n",
    "                              secondary_y = False)\n",
    "                #line_shape - linear/spline\n",
    "            elif (chartType[i] == 'bar'):\n",
    "                fig.add_trace(go.Bar(x = x_data, y = y_data, \n",
    "                                     name=region + ' ' + labels[i] + ' daily', \n",
    "                                     marker_color = colors[i]), secondary_y = True)\n",
    "    #             fig = go.Figure(data=[go.Bar(name='xxx', x=x_data, y=y_data)])\n",
    "                if (i == 1):\n",
    "                    yMA = movingaverage(y_data,7)\n",
    "                    fig.add_trace(go.Scatter(x = x_data[len(x_data)-len(yMA):], y = yMA, line_shape = 'linear', line=dict(color=colors[i]), \n",
    "                                     name='Moving average'), \n",
    "                          secondary_y = True)\n",
    "\n",
    "    \n",
    "    fig.update_layout(\n",
    "        title=\"COVID 19 cases by \" + region_type_county,\n",
    "        xaxis_title='Date',\n",
    "        yaxis_title='No. of Confirmed Cases',\n",
    "        yaxis2_title='Daily Cases (bar charts)',\n",
    "        margin=dict(l=20, r=20, t=40, b=20),\n",
    "        paper_bgcolor=\"lightgrey\",\n",
    "        width = 800,\n",
    "        \n",
    "    );\n",
    "    \n",
    "    fig.update_yaxes(type=\"linear\")\n",
    "    fig.show();"
   ]
  },
  {
   "cell_type": "code",
   "execution_count": 10,
   "metadata": {},
   "outputs": [
    {
     "data": {
      "text/html": [
       "<div style = 'background-color: #504e4e; padding: 30px '><span style='color: #fff; font-size:30px;'> Confirmed: 8003021</span><span style='color: red; font-size:30px;margin-left:20px;'> Deaths: 435619</span><span style='color: lightgreen; font-size:30px; margin-left:20px;'> Recovered: 3832784</span></div>"
      ],
      "text/plain": [
       "<IPython.core.display.HTML object>"
      ]
     },
     "metadata": {},
     "output_type": "display_data"
    }
   ],
   "source": [
    "# displaying the total stats\n",
    "\n",
    "display(HTML(\"<div style = 'background-color: #504e4e; padding: 30px '>\" +\n",
    "             \"<span style='color: #fff; font-size:30px;'> Confirmed: \"  + str(confirmed_total) +\"</span>\" +\n",
    "             \"<span style='color: red; font-size:30px;margin-left:20px;'> Deaths: \" + str(deaths_total) + \"</span>\"+\n",
    "             \"<span style='color: lightgreen; font-size:30px; margin-left:20px;'> Recovered: \" + str(recovered_total) + \"</span>\"+\n",
    "             \"</div>\")\n",
    "       )"
   ]
  },
  {
   "cell_type": "markdown",
   "metadata": {},
   "source": [
    "# Check the details of your country or the World"
   ]
  },
  {
   "cell_type": "code",
   "execution_count": 11,
   "metadata": {
    "scrolled": false
   },
   "outputs": [
    {
     "data": {
      "application/vnd.jupyter.widget-view+json": {
       "model_id": "ee842e86f1a64c0fbc5f5a05a068ecfb",
       "version_major": 2,
       "version_minor": 0
      },
      "text/plain": [
       "interactive(children=(SelectMultiple(description='Countries', index=(174,), options=('Afghanistan', 'Albania',…"
      ]
     },
     "metadata": {},
     "output_type": "display_data"
    },
    {
     "data": {
      "application/vnd.jupyter.widget-view+json": {
       "model_id": "501085b073fd45b789910be2556a490b",
       "version_major": 2,
       "version_minor": 0
      },
      "text/plain": [
       "VBox(children=(FigureWidget({\n",
       "    'data': [], 'layout': {'template': '...'}\n",
       "}),), layout=Layout(border='solid …"
      ]
     },
     "metadata": {},
     "output_type": "display_data"
    }
   ],
   "source": [
    "country_list = confirmed_df.country.unique().tolist()\n",
    "country_list.sort()\n",
    "startValue = ['US',]\n",
    "region_type = 'country'\n",
    "df_list = [death_daily_df, confirmed_daily_df, death_df, confirmed_df]\n",
    "\n",
    "countrySelection = SelectMultiple(\n",
    "    options = country_list, # What will be available in Selection\n",
    "    value = startValue, # What will first be chosen.  Here we are chossing all\n",
    "    rows=10, # How many rows will be displayed initially\n",
    "    description='Countries', # Text outside of the widget\n",
    "    disabled=False # If 'True', the widget will not be usable\n",
    ")\n",
    "\n",
    "interact(plot_cases_global, x=countrySelection)\n",
    "\n",
    "ipywLayout = widgets.Layout(border='solid 2px green')\n",
    "ipywLayout.display='none' # uncomment this, run cell again - then the graph/figure disappears\n",
    "widgets.VBox([fig], layout=ipywLayout)"
   ]
  },
  {
   "cell_type": "markdown",
   "metadata": {},
   "source": [
    "# Details by US State"
   ]
  },
  {
   "cell_type": "code",
   "execution_count": 12,
   "metadata": {
    "scrolled": false
   },
   "outputs": [
    {
     "data": {
      "application/vnd.jupyter.widget-view+json": {
       "model_id": "7dfaf678a61a4759b07c2cfd4dab9a68",
       "version_major": 2,
       "version_minor": 0
      },
      "text/plain": [
       "interactive(children=(SelectMultiple(description='States', index=(43,), options=('Alabama', 'Alaska', 'Arizona…"
      ]
     },
     "metadata": {},
     "output_type": "display_data"
    },
    {
     "data": {
      "application/vnd.jupyter.widget-view+json": {
       "model_id": "084cdbc80c124348937172b75c00c219",
       "version_major": 2,
       "version_minor": 0
      },
      "text/plain": [
       "VBox(children=(FigureWidget({\n",
       "    'data': [], 'layout': {'template': '...'}\n",
       "}),), layout=Layout(border='solid …"
      ]
     },
     "metadata": {},
     "output_type": "display_data"
    }
   ],
   "source": [
    "state_list = us_confirmed_df.state.unique().tolist()\n",
    "state_list.sort()\n",
    "startValue = ['Texas',]\n",
    "region_type_state = 'state'\n",
    "df_list_state = [us_death_daily_df, us_confirmed_daily_df, us_death_df, us_confirmed_df]\n",
    "\n",
    "stateSelection = SelectMultiple(\n",
    "    options = state_list, # What will be available in wellSelection\n",
    "    value = startValue, # What will first be chosen.  Here we are chossing all\n",
    "    rows=10, # How many rows will be displayed initially\n",
    "    description='States', # Text outside of the widget\n",
    "    disabled=False # If 'True', the widget will not be usable\n",
    ")\n",
    "\n",
    "interact(plot_cases_state, x=stateSelection)\n",
    "\n",
    "ipywLayout = widgets.Layout(border='solid 2px green')\n",
    "ipywLayout.display='none' # uncomment this, run cell again - then the graph/figure disappears\n",
    "widgets.VBox([fig], layout=ipywLayout)"
   ]
  },
  {
   "cell_type": "markdown",
   "metadata": {},
   "source": [
    "# Details by US County"
   ]
  },
  {
   "cell_type": "code",
   "execution_count": 13,
   "metadata": {},
   "outputs": [
    {
     "data": {
      "application/vnd.jupyter.widget-view+json": {
       "model_id": "3140ec5aaad248628ef688af6851cf5a",
       "version_major": 2,
       "version_minor": 0
      },
      "text/plain": [
       "interactive(children=(SelectMultiple(description='Counties', index=(725,), options=('Abbeville', 'Acadia', 'Ac…"
      ]
     },
     "metadata": {},
     "output_type": "display_data"
    },
    {
     "data": {
      "application/vnd.jupyter.widget-view+json": {
       "model_id": "a1aa6a49f7d24927bcd400bf1946689a",
       "version_major": 2,
       "version_minor": 0
      },
      "text/plain": [
       "VBox(children=(FigureWidget({\n",
       "    'data': [], 'layout': {'template': '...'}\n",
       "}),), layout=Layout(border='solid …"
      ]
     },
     "metadata": {},
     "output_type": "display_data"
    }
   ],
   "source": [
    "county_list = us_confirmed_df.county.unique().tolist()\n",
    "county_list.sort()\n",
    "startValue = ['Harris',]\n",
    "region_type_county = 'county'\n",
    "df_list_county = [us_death_daily_df, us_confirmed_daily_df, us_death_df, us_confirmed_df]\n",
    "\n",
    "countySelection = SelectMultiple(\n",
    "    options = county_list, # What will be available in wellSelection\n",
    "    value = startValue, # What will first be chosen.  Here we are chossing all\n",
    "    rows=10, # How many rows will be displayed initially\n",
    "    description='Counties', # Text outside of the widget\n",
    "    disabled=False # If 'True', the widget will not be usable\n",
    ")\n",
    "\n",
    "interact(plot_cases_county, x=countySelection)\n",
    "\n",
    "ipywLayout = widgets.Layout(border='solid 2px green')\n",
    "ipywLayout.display='none' # uncomment this, run cell again - then the graph/figure disappears\n",
    "widgets.VBox([fig], layout=ipywLayout)"
   ]
  }
 ],
 "metadata": {
  "kernelspec": {
   "display_name": "Python 3",
   "language": "python",
   "name": "python3"
  },
  "language_info": {
   "codemirror_mode": {
    "name": "ipython",
    "version": 3
   },
   "file_extension": ".py",
   "mimetype": "text/x-python",
   "name": "python",
   "nbconvert_exporter": "python",
   "pygments_lexer": "ipython3",
   "version": "3.7.3"
  }
 },
 "nbformat": 4,
 "nbformat_minor": 2
}
