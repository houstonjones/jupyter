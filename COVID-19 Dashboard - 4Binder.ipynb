{
 "cells": [
  {
   "cell_type": "markdown",
   "metadata": {},
   "source": [
    "# COVID-19 Interactive Analysis Dashboard"
   ]
  },
  {
   "cell_type": "code",
   "execution_count": 225,
   "metadata": {},
   "outputs": [],
   "source": [
    "# importing libraries\n",
    "\n",
    "# from __future__ import print_function\n",
    "from ipywidgets import interact, interactive, fixed, interact_manual, SelectMultiple\n",
    "from IPython.core.display import display, HTML\n",
    "\n",
    "import numpy as np\n",
    "import pandas as pd\n",
    "import matplotlib.pyplot as plt\n",
    "import plotly.express as px\n",
    "# import folium\n",
    "import plotly.graph_objects as go\n",
    "from plotly.subplots import make_subplots\n",
    "# import seaborn as sns\n",
    "import ipywidgets as widgets\n",
    "fig = go.FigureWidget( layout=go.Layout() )\n"
   ]
  },
  {
   "cell_type": "code",
   "execution_count": 226,
   "metadata": {},
   "outputs": [],
   "source": [
    "# loading data right from the source:\n",
    "death_df = pd.read_csv('https://raw.githubusercontent.com/CSSEGISandData/COVID-19/master/csse_covid_19_data/csse_covid_19_time_series/time_series_covid19_deaths_global.csv')\n",
    "confirmed_df = pd.read_csv('https://raw.githubusercontent.com/CSSEGISandData/COVID-19/master/csse_covid_19_data/csse_covid_19_time_series/time_series_covid19_confirmed_global.csv')\n",
    "recovered_df = pd.read_csv('https://raw.githubusercontent.com/CSSEGISandData/COVID-19/master/csse_covid_19_data/csse_covid_19_time_series/time_series_covid19_recovered_global.csv')\n",
    "country_df = pd.read_csv('https://raw.githubusercontent.com/CSSEGISandData/COVID-19/web-data/data/cases_country.csv')\n",
    "us_confirmed_df = pd.read_csv('https://raw.githubusercontent.com/CSSEGISandData/COVID-19/master/csse_covid_19_data/csse_covid_19_time_series/time_series_covid19_confirmed_US.csv')\n",
    "us_death_df = pd.read_csv('https://raw.githubusercontent.com/CSSEGISandData/COVID-19/master/csse_covid_19_data/csse_covid_19_time_series/time_series_covid19_deaths_US.csv')"
   ]
  },
  {
   "cell_type": "code",
   "execution_count": 227,
   "metadata": {},
   "outputs": [],
   "source": [
    "# data cleaning\n",
    "\n",
    "# renaming the df column names to lowercase\n",
    "country_df.columns = map(str.lower, country_df.columns)\n",
    "confirmed_df.columns = map(str.lower, confirmed_df.columns)\n",
    "death_df.columns = map(str.lower, death_df.columns)\n",
    "recovered_df.columns = map(str.lower, recovered_df.columns)\n",
    "us_confirmed_df.columns = map(str.lower, us_confirmed_df.columns)\n",
    "us_death_df.columns = map(str.lower, us_death_df.columns)\n",
    "\n",
    "# changing province/state to state and country/region to country\n",
    "confirmed_df = confirmed_df.rename(columns={'province/state': 'state', 'country/region': 'country'})\n",
    "recovered_df = confirmed_df.rename(columns={'province/state': 'state', 'country/region': 'country'})\n",
    "death_df = death_df.rename(columns={'province/state': 'state', 'country/region': 'country'})\n",
    "country_df = country_df.rename(columns={'country_region': 'country'})\n",
    "us_confirmed_df = us_confirmed_df.rename(columns={'province_state': 'state', 'admin2': 'county', 'country_region': 'country'})\n",
    "us_death_df = us_death_df.rename(columns={'province_state': 'state', 'admin2': 'county', 'country_region': 'country'})\n",
    "# drop rows with nulls\n",
    "us_confirmed_df = us_confirmed_df.dropna(axis = 0, how ='any') \n",
    "us_death_df = us_death_df.dropna(axis = 0, how ='any') "
   ]
  },
  {
   "cell_type": "code",
   "execution_count": 228,
   "metadata": {},
   "outputs": [],
   "source": [
    "# compute daily cases\n",
    "confirmed_daily_df = confirmed_df.copy(deep=True)\n",
    "for col in range(6, len(confirmed_daily_df.columns)):\n",
    "    confirmed_daily_df[confirmed_daily_df.columns[col]] = confirmed_df[confirmed_df.columns[col]] - confirmed_df[confirmed_df.columns[col-1]]\n",
    "\n",
    "death_daily_df = death_df.copy(deep=True)\n",
    "for col in range(6, len(death_daily_df.columns)):\n",
    "    death_daily_df[death_daily_df.columns[col]] = death_df[death_df.columns[col]] - death_df[death_df.columns[col-1]]\n",
    "\n",
    "us_confirmed_daily_df = us_confirmed_df.copy(deep=True)\n",
    "for col in range(12, len(us_confirmed_daily_df.columns)):\n",
    "    us_confirmed_daily_df[us_confirmed_daily_df.columns[col]] = us_confirmed_df[us_confirmed_df.columns[col]] - us_confirmed_df[us_confirmed_df.columns[col-1]]\n",
    "\n",
    "us_death_daily_df = us_death_df.copy(deep=True)\n",
    "for col in range(12, len(us_death_daily_df.columns)):\n",
    "    us_death_daily_df[us_death_daily_df.columns[col]] = us_death_df[us_death_df.columns[col]] - us_death_df[us_death_df.columns[col-1]]\n"
   ]
  },
  {
   "cell_type": "code",
   "execution_count": 229,
   "metadata": {},
   "outputs": [],
   "source": [
    "# total number of confirmed, death and recovered cases\n",
    "confirmed_total = int(country_df['confirmed'].sum())\n",
    "deaths_total = int(country_df['deaths'].sum())\n",
    "recovered_total = int(country_df['recovered'].sum())\n",
    "active_total = int(country_df['active'].sum())"
   ]
  },
  {
   "cell_type": "code",
   "execution_count": 230,
   "metadata": {},
   "outputs": [
    {
     "data": {
      "text/html": [
       "<div style = 'background-color: #504e4e; padding: 30px '><span style='color: #fff; font-size:30px;'> Confirmed: 7854514</span><span style='color: red; font-size:30px;margin-left:20px;'> Deaths: 431543</span><span style='color: lightgreen; font-size:30px; margin-left:20px;'> Recovered: 3750291</span></div>"
      ],
      "text/plain": [
       "<IPython.core.display.HTML object>"
      ]
     },
     "metadata": {},
     "output_type": "display_data"
    }
   ],
   "source": [
    "# displaying the total stats\n",
    "\n",
    "display(HTML(\"<div style = 'background-color: #504e4e; padding: 30px '>\" +\n",
    "             \"<span style='color: #fff; font-size:30px;'> Confirmed: \"  + str(confirmed_total) +\"</span>\" +\n",
    "             \"<span style='color: red; font-size:30px;margin-left:20px;'> Deaths: \" + str(deaths_total) + \"</span>\"+\n",
    "             \"<span style='color: lightgreen; font-size:30px; margin-left:20px;'> Recovered: \" + str(recovered_total) + \"</span>\"+\n",
    "             \"</div>\")\n",
    "       )"
   ]
  },
  {
   "cell_type": "markdown",
   "metadata": {},
   "source": [
    "# Check the details of your country or the World"
   ]
  },
  {
   "cell_type": "code",
   "execution_count": 231,
   "metadata": {
    "scrolled": false
   },
   "outputs": [
    {
     "data": {
      "application/vnd.jupyter.widget-view+json": {
       "model_id": "6c90fbb5996c43d8976ade767403c8d6",
       "version_major": 2,
       "version_minor": 0
      },
      "text/plain": [
       "interactive(children=(SelectMultiple(description='Countries', index=(174,), options=('Afghanistan', 'Albania',…"
      ]
     },
     "metadata": {},
     "output_type": "display_data"
    },
    {
     "data": {
      "application/vnd.jupyter.widget-view+json": {
       "model_id": "b83b424872d54ee7a4ce3240b39692e2",
       "version_major": 2,
       "version_minor": 0
      },
      "text/plain": [
       "VBox(children=(FigureWidget({\n",
       "    'data': [], 'layout': {'template': '...'}\n",
       "}),), layout=Layout(border='solid …"
      ]
     },
     "metadata": {},
     "output_type": "display_data"
    }
   ],
   "source": [
    "def plot_cases_of_a_country(x):\n",
    "    labels = ['confirmed', 'deaths', 'confirmed', 'deaths']\n",
    "    colors = ['cadetblue', 'palevioletred', 'blue', 'red']\n",
    "    mode_size = [6, 6, 6, 6]\n",
    "    line_size = [3, 3, 3, 3]\n",
    "\n",
    "    chartType = ['bar', 'bar', 'line', 'line']\n",
    "    df_list = [confirmed_daily_df, death_daily_df, confirmed_df, death_df]\n",
    "\n",
    "    # Create figure with secondary y-axis\n",
    "    fig = make_subplots(specs=[[{\"secondary_y\": True}]])\n",
    "    yMaxSecondary = max(np.sum(np.asarray(confirmed_daily_df[confirmed_daily_df['country'] == x[0]].iloc[:,60:]),axis = 0)) * 2.0\n",
    "    fig.update_yaxes(range=[3, yMaxSecondary], secondary_y=True, showgrid=False)\n",
    "    \n",
    "    for i, df in enumerate(df_list):\n",
    "        for country in x:\n",
    "#             print(str(df[df['country'] == country].max().max()))\n",
    "            if country == 'World' or country == 'world':\n",
    "                x_data = np.array(list(df.iloc[:, 60:].columns))\n",
    "                y_data = np.sum(np.asarray(df.iloc[:,4:]),axis = 0)\n",
    "\n",
    "            else:    \n",
    "                x_data = np.array(list(df.iloc[:, 60:].columns))\n",
    "                y_data = np.sum(np.asarray(df[df['country'] == country].iloc[:,60:]),axis = 0)\n",
    "                \n",
    "            if (chartType[i] == 'line'):\n",
    "                fig.add_trace(go.Scatter(x = x_data, y = y_data, line_shape = 'linear', line=dict(color=colors[i]), \n",
    "                                         name=country + ' ' + labels[i] + ' total (' + str(max(y_data)) + ')'), \n",
    "                              secondary_y = False)\n",
    "                #line_shape - linear/spline\n",
    "            elif (chartType[i] == 'bar'):\n",
    "                fig.add_trace(go.Bar(x = x_data, y = y_data, \n",
    "                                     name=country + ' ' + labels[i] + ' daily', \n",
    "                                     marker_color = colors[i]), secondary_y = True)\n",
    "    #             fig = go.Figure(data=[go.Bar(name='xxx', x=x_data, y=y_data)])\n",
    "    \n",
    "    fig.update_layout(\n",
    "        title=\"COVID 19 cases by Country \",\n",
    "        xaxis_title='Date',\n",
    "        yaxis_title='No. of Confirmed Cases',\n",
    "        margin=dict(l=20, r=20, t=40, b=20),\n",
    "        paper_bgcolor=\"lightgrey\",\n",
    "        width = 800,\n",
    "        \n",
    "    );\n",
    "    \n",
    "    fig.update_yaxes(type=\"linear\")\n",
    "    fig.show();\n",
    "\n",
    "country_list = confirmed_df.country.unique().tolist()\n",
    "country_list.sort()\n",
    "startValue = ['US',]\n",
    "\n",
    "countrySelection = SelectMultiple(\n",
    "    options = country_list, # What will be available in wellSelection\n",
    "    value = startValue, # What will first be chosen.  Here we are chossing all\n",
    "    rows=10, # How many rows will be displayed initially\n",
    "    description='Countries', # Text outside of the widget\n",
    "    disabled=False # If 'True', the widget will not be usable\n",
    ")\n",
    "\n",
    "interact(plot_cases_of_a_country, x=countrySelection)\n",
    "\n",
    "ipywLayout = widgets.Layout(border='solid 2px green')\n",
    "ipywLayout.display='none' # uncomment this, run cell again - then the graph/figure disappears\n",
    "widgets.VBox([fig], layout=ipywLayout)"
   ]
  },
  {
   "cell_type": "markdown",
   "metadata": {},
   "source": [
    "# Details by State"
   ]
  },
  {
   "cell_type": "code",
   "execution_count": 232,
   "metadata": {},
   "outputs": [
    {
     "data": {
      "application/vnd.jupyter.widget-view+json": {
       "model_id": "ac729c30682846dab1c610c0483fb743",
       "version_major": 2,
       "version_minor": 0
      },
      "text/plain": [
       "interactive(children=(SelectMultiple(description='States', index=(43,), options=('Alabama', 'Alaska', 'Arizona…"
      ]
     },
     "metadata": {},
     "output_type": "display_data"
    },
    {
     "data": {
      "application/vnd.jupyter.widget-view+json": {
       "model_id": "d5d80710507243688510c39de586313c",
       "version_major": 2,
       "version_minor": 0
      },
      "text/plain": [
       "VBox(children=(FigureWidget({\n",
       "    'data': [], 'layout': {'template': '...'}\n",
       "}),), layout=Layout(border='solid …"
      ]
     },
     "metadata": {},
     "output_type": "display_data"
    }
   ],
   "source": [
    "def plot_cases_by_state(x):\n",
    "    labels = ['deaths', 'confirmed', 'deaths', 'confirmed']\n",
    "    colors = ['palevioletred', 'cadetblue', 'red', 'blue']\n",
    "    mode_size = [6, 6, 6, 6]\n",
    "    line_size = [3, 3, 3, 3]\n",
    "\n",
    "    chartType = ['bar', 'bar', 'line', 'line']\n",
    "\n",
    "    df_list = [us_death_daily_df, us_confirmed_daily_df, us_death_df, us_confirmed_df]\n",
    "    \n",
    "    #fig = go.Figure();\n",
    "    # Create figure with secondary y-axis\n",
    "    fig = make_subplots(specs=[[{\"secondary_y\": True}]])\n",
    "    print()\n",
    "    yMaxSecondary = max(np.sum(np.asarray(us_confirmed_daily_df[us_confirmed_daily_df['state'] == x[0]].iloc[:,60:]),axis = 0)) * 2.0\n",
    "    fig.update_yaxes(range=[3, yMaxSecondary], secondary_y=True, showgrid=False)\n",
    "    \n",
    "    for i, df in enumerate(df_list):\n",
    "        for state in x:\n",
    "            x_data = np.array(list(df.iloc[:, 60:].columns))\n",
    "            y_data = np.sum(np.asarray(df[df['state'] == state].iloc[:,60:]),axis = 0)\n",
    "\n",
    "            if (chartType[i] == 'line'):\n",
    "                fig.add_trace(go.Scatter(x = x_data, y = y_data, line_shape = 'linear', line=dict(color=colors[i]), \n",
    "                                         name=state + ' ' + labels[i] + ' total (' + str(max(y_data)) + ')'), \n",
    "                              secondary_y = False)\n",
    "                #line_shape - linear/spline\n",
    "            elif (chartType[i] == 'bar'):\n",
    "                fig.add_trace(go.Bar(x = x_data, y = y_data, \n",
    "                                     name=state + ' ' + labels[i] + ' daily', \n",
    "                                     marker_color = colors[i]), secondary_y = True)\n",
    "    #             fig = go.Figure(data=[go.Bar(name='xxx', x=x_data, y=y_data)])\n",
    "    \n",
    "    fig.update_layout(\n",
    "        title=\"COVID 19 cases by State\",\n",
    "        xaxis_title='Date',\n",
    "        yaxis_title='No. of Confirmed Cases',\n",
    "        margin=dict(l=20, r=20, t=40, b=20),\n",
    "        paper_bgcolor=\"lightgrey\",\n",
    "        width = 800,\n",
    "        \n",
    "    );\n",
    "    \n",
    "    fig.update_yaxes(type=\"linear\")\n",
    "    fig.show();\n",
    "\n",
    "state_list = us_confirmed_df.state.unique().tolist()\n",
    "state_list.sort()\n",
    "startValue = ['Texas',]\n",
    "\n",
    "stateSelection = SelectMultiple(\n",
    "    options = state_list, # What will be available in wellSelection\n",
    "    value = startValue, # What will first be chosen.  Here we are chossing all\n",
    "    rows=10, # How many rows will be displayed initially\n",
    "    description='States', # Text outside of the widget\n",
    "    disabled=False # If 'True', the widget will not be usable\n",
    ")\n",
    "\n",
    "#states_list = us_confirmed_df.state.unique()\n",
    "interact(plot_cases_by_state, x=stateSelection)\n",
    "\n",
    "ipywLayout = widgets.Layout(border='solid 2px green')\n",
    "ipywLayout.display='none' # uncomment this, run cell again - then the graph/figure disappears\n",
    "widgets.VBox([fig], layout=ipywLayout)"
   ]
  },
  {
   "cell_type": "code",
   "execution_count": 233,
   "metadata": {},
   "outputs": [],
   "source": [
    "us_death_df.drop(us_death_df[us_death_df['county'].str.contains(\"Out of\")].index, inplace = True) \n",
    "#us_confirmed_df.drop(us_confirmed_df[us_confirmed_df['county'].str.contains(\"Out of\")].index, inplace = True) "
   ]
  },
  {
   "cell_type": "markdown",
   "metadata": {},
   "source": [
    "# Details by County"
   ]
  },
  {
   "cell_type": "code",
   "execution_count": 234,
   "metadata": {},
   "outputs": [
    {
     "data": {
      "application/vnd.jupyter.widget-view+json": {
       "model_id": "4765530ab3984ec7b30c3ca78783d336",
       "version_major": 2,
       "version_minor": 0
      },
      "text/plain": [
       "interactive(children=(SelectMultiple(description='Counties', index=(725,), options=('Abbeville', 'Acadia', 'Ac…"
      ]
     },
     "metadata": {},
     "output_type": "display_data"
    },
    {
     "data": {
      "application/vnd.jupyter.widget-view+json": {
       "model_id": "d6b44682d45d447f837b0e634b4b657e",
       "version_major": 2,
       "version_minor": 0
      },
      "text/plain": [
       "VBox(children=(FigureWidget({\n",
       "    'data': [], 'layout': {'template': '...'}\n",
       "}),), layout=Layout(border='solid …"
      ]
     },
     "metadata": {},
     "output_type": "display_data"
    }
   ],
   "source": [
    "def plot_cases_by_county(x):\n",
    "    labels = ['deaths', 'confirmed', 'deaths', 'confirmed']\n",
    "    colors = ['palevioletred', 'cadetblue', 'red', 'blue']\n",
    "    mode_size = [6, 6, 6, 6]\n",
    "    line_size = [3, 3, 3, 3]\n",
    "\n",
    "    chartType = ['bar', 'bar', 'line', 'line']\n",
    "\n",
    "    df_list = [us_death_daily_df, us_confirmed_daily_df, us_death_df, us_confirmed_df]\n",
    "    \n",
    "    # Create figure with secondary y-axis\n",
    "    fig = make_subplots(specs=[[{\"secondary_y\": True}]])\n",
    "    print()\n",
    "    yMaxSecondary = max(np.sum(np.asarray(us_confirmed_daily_df[us_confirmed_daily_df['county'] == x[0]].iloc[:,60:]),axis = 0)) * 2.0\n",
    "    fig.update_yaxes(range=[3, yMaxSecondary], secondary_y=True, showgrid=False)\n",
    "    \n",
    "    for i, df in enumerate(df_list):\n",
    "        for county in x:\n",
    "            x_data = np.array(list(df.iloc[:, 60:].columns))\n",
    "            y_data = np.sum(np.asarray(df[df['county'] == county].iloc[:,60:]),axis = 0)\n",
    "\n",
    "            if (chartType[i] == 'line'):\n",
    "                fig.add_trace(go.Scatter(x = x_data, y = y_data, line_shape = 'linear', line=dict(color=colors[i]), \n",
    "                                         name=county + ' ' + labels[i] + ' total (' + str(max(y_data)) + ')'), \n",
    "                              secondary_y = False)\n",
    "                #line_shape - linear/spline\n",
    "            elif (chartType[i] == 'bar'):\n",
    "                fig.add_trace(go.Bar(x = x_data, y = y_data, \n",
    "                                     name=county + ' ' + labels[i] + ' daily', \n",
    "                                     marker_color = colors[i]), secondary_y = True)\n",
    "    #             fig = go.Figure(data=[go.Bar(name='xxx', x=x_data, y=y_data)])\n",
    "    \n",
    "    fig.update_layout(\n",
    "        title=\"COVID 19 cases by County\",\n",
    "        xaxis_title='Date',\n",
    "        yaxis_title='No. of Confirmed Cases',\n",
    "        margin=dict(l=20, r=20, t=40, b=20),\n",
    "        paper_bgcolor=\"lightgrey\",\n",
    "        width = 800,\n",
    "        \n",
    "    );\n",
    "    \n",
    "    fig.update_yaxes(type=\"linear\")\n",
    "    fig.show();\n",
    "    \n",
    "county_list = us_confirmed_df.county.unique().tolist()\n",
    "#print(county_list)\n",
    "county_list.sort()\n",
    "startValue = ['Harris',]\n",
    "\n",
    "countySelection = SelectMultiple(\n",
    "    options = county_list, # What will be available in wellSelection\n",
    "    value = startValue, # What will first be chosen.  Here we are chossing all\n",
    "    rows=10, # How many rows will be displayed initially\n",
    "    description='Counties', # Text outside of the widget\n",
    "    disabled=False # If 'True', the widget will not be usable\n",
    ")\n",
    "\n",
    "interact(plot_cases_by_county, x=countySelection)\n",
    "\n",
    "ipywLayout = widgets.Layout(border='solid 2px green')\n",
    "ipywLayout.display='none' # uncomment this, run cell again - then the graph/figure disappears\n",
    "widgets.VBox([fig], layout=ipywLayout)"
   ]
  }
 ],
 "metadata": {
  "kernelspec": {
   "display_name": "Python 3",
   "language": "python",
   "name": "python3"
  },
  "language_info": {
   "codemirror_mode": {
    "name": "ipython",
    "version": 3
   },
   "file_extension": ".py",
   "mimetype": "text/x-python",
   "name": "python",
   "nbconvert_exporter": "python",
   "pygments_lexer": "ipython3",
   "version": "3.7.3"
  }
 },
 "nbformat": 4,
 "nbformat_minor": 2
}
